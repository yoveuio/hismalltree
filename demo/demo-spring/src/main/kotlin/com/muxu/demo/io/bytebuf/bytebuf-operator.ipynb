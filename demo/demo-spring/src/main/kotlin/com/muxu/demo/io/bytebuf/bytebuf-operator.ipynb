{
 "cells": [
  {
   "metadata": {},
   "cell_type": "markdown",
   "source": [
    "# Random access indexing\n",
    "Access as in an ordinary java byte array. It will not alter the value of either `readerIndex` or `writerIndex`"
   ]
  },
  {
   "cell_type": "code",
   "execution_count": null,
   "metadata": {
    "collapsed": true
   },
   "outputs": [],
   "source": [
    "import io.netty.buffer.ByteBuf\n",
    "\n",
    "val buffer: ByteBuf = TODO()\n",
    "for (i in 0..buffer.capacity()) {\n",
    "    val b = buffer.getByte(i)\n",
    "    println(b)\n",
    "}"
   ]
  },
  {
   "metadata": {},
   "cell_type": "markdown",
   "source": [
    "# Derived Buffers\n",
    "- `duplicate`:\n",
    "- `slice`:\n",
    "- `slice(int, int)`:\n",
    "- `Unpooled.unmodifiableBuffer(...)`:\n",
    "- `order(ByteOrder)`:\n",
    "- `readSlice(int)`:"
   ]
  },
  {
   "metadata": {},
   "cell_type": "code",
   "outputs": [],
   "execution_count": null,
   "source": ""
  }
 ],
 "metadata": {
  "kernelspec": {
   "display_name": "Kotlin",
   "language": "kotlin",
   "name": "kotlin"
  },
  "language_info": {
   "name": "kotlin",
   "version": "1.9.23",
   "mimetype": "text/x-kotlin",
   "file_extension": ".kt",
   "pygments_lexer": "kotlin",
   "codemirror_mode": "text/x-kotlin",
   "nbconvert_exporter": ""
  }
 },
 "nbformat": 4,
 "nbformat_minor": 0
}
