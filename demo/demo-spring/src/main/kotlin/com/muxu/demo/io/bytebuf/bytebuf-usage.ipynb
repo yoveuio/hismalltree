{
 "cells": [
  {
   "metadata": {},
   "cell_type": "markdown",
   "source": [
    "# Heap Buffers\n",
    "## "
   ]
  },
  {
   "metadata": {},
   "cell_type": "code",
   "outputs": [],
   "execution_count": null,
   "source": [
    "val heapBuf: ByteBuf = TODO()\n",
    "if (heapBuf.hasArray()) {\n",
    "    val array = heapBuf.array()\n",
    "    val offset = heapBuf.arrayOffset() + heapBuf.readerIndex()\n",
    "    val length = heapBuf.readableBytes()\n",
    "}"
   ]
  },
  {
   "metadata": {},
   "cell_type": "markdown",
   "source": "# Direct Buffers"
  },
  {
   "metadata": {},
   "cell_type": "code",
   "outputs": [],
   "execution_count": null,
   "source": [
    "val directBuf: ByteBuf = TODO()\n",
    "if (!directBuf.hasArray()) {\n",
    "    val length = directBuf.readableBytes()\n",
    "    val array = ByteArray(length)\n",
    "    directBuf.getBytes(directBuf.readerIndex(), array)\n",
    "}"
   ]
  },
  {
   "metadata": {},
   "cell_type": "markdown",
   "source": "# Composite Buffers"
  },
  {
   "metadata": {},
   "cell_type": "code",
   "outputs": [],
   "execution_count": null,
   "source": [
    "import io.netty.buffer.CompositeByteBuf\n",
    "\n",
    "val messageBuf: CompositeByteBuf = TODO()\n",
    "val headerBuf: ByteBuf = TODO()\n",
    "val bodyBuf: ByteBuf = TODO()\n",
    "messageBuf.addComponents(headerBuf, bodyBuf)\n"
   ]
  },
  {
   "metadata": {},
   "cell_type": "code",
   "outputs": [],
   "execution_count": null,
   "source": "Pattern"
  }
 ],
 "metadata": {
  "kernelspec": {
   "display_name": "Kotlin",
   "language": "kotlin",
   "name": "kotlin"
  },
  "language_info": {
   "name": "kotlin",
   "version": "1.9.23",
   "mimetype": "text/x-kotlin",
   "file_extension": ".kt",
   "pygments_lexer": "kotlin",
   "codemirror_mode": "text/x-kotlin",
   "nbconvert_exporter": ""
  }
 },
 "nbformat": 4,
 "nbformat_minor": 0
}
